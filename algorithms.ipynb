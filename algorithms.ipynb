{
 "cells": [
  {
   "cell_type": "markdown",
   "metadata": {},
   "source": [
    "### Связный список"
   ]
  },
  {
   "cell_type": "code",
   "execution_count": 7,
   "metadata": {},
   "outputs": [],
   "source": [
    "class Node:\n",
    "    def __init__(self, data = None, next_node = None):\n",
    "        self.data = data # храним данные\n",
    "        self.next = next_node # храним ссылку на следующий узел\n",
    "\n",
    "class LinkedList:\n",
    "    def __init__(self):\n",
    "        self.head = None\n",
    "\n",
    "    def is_empty(self): # пустой ли список O(1)\n",
    "        return self.head is None\n",
    "\n",
    "    def append(self, data):   # добавление элемента в конец списка O(n)\n",
    "        new_node = Node(data)\n",
    "        if self.head is None: # если список пустой, указываем на новый элемент\n",
    "            self.head = new_node\n",
    "            return\n",
    "    \n",
    "        last_node = self.head # если список не пустой, проходимся по каждому узлу, пока не дойдем до конца\n",
    "        while last_node.next:\n",
    "            last_node = last_node.next\n",
    "        last_node.next = new_node\n",
    "        \n",
    "    def prepend(self, data): # добавление элемента в начало списка O(1)\n",
    "        new_node = Node(data)\n",
    "        new_node.next = self.head\n",
    "        self.head = new_node\n",
    "\n",
    "    def delete(self, value): # удаление элемента по значению О(N)\n",
    "        if self.is_empty(): # если список пуст, то в нем нет удаляемого элемента\n",
    "            raise ValueError(f\"Нет такого значения {value}\")\n",
    "        \n",
    "        if self.head.data == value: # если удаляемый элемент - головной, подменим начало списка\n",
    "            self.head = self.head.next\n",
    "            return\n",
    "        \n",
    "        current_node = self.head\n",
    "        prev_node = None\n",
    "        while current_node is not None and current_node.data != value:\n",
    "            prev_node = current_node\n",
    "            current_node = current_node.next\n",
    "        \n",
    "        if current_node is None:\n",
    "            raise ValueError(f\"Нет такого значения {value}\")\n",
    "        \n",
    "        prev_node.next = current_node.next\n",
    "    \n",
    "    def __str__(self):\n",
    "        \"\"\"Вывод списка на экран. Сложноcть О(n)\"\"\"\n",
    "        result_str = \"\"\n",
    "        current_node = self.head\n",
    "        while current_node:\n",
    "            result_str += f\" {current_node.data}\"\n",
    "            current_node = current_node.next\n",
    "        return result_str\n",
    "\n",
    "\n",
    "    "
   ]
  },
  {
   "cell_type": "markdown",
   "metadata": {},
   "source": [
    "***Пример использования***"
   ]
  },
  {
   "cell_type": "code",
   "execution_count": 8,
   "metadata": {},
   "outputs": [
    {
     "name": "stdout",
     "output_type": "stream",
     "text": [
      " 1\n",
      " 1 2 3\n",
      " 1 3\n",
      " 10 1 3\n"
     ]
    }
   ],
   "source": [
    "linked_list = LinkedList()\n",
    "linked_list.append(1)\n",
    "print(linked_list)\n",
    "linked_list.append(2)\n",
    "linked_list.append(3)\n",
    "print(linked_list)\n",
    "linked_list.delete(2)\n",
    "print(linked_list)\n",
    "linked_list.prepend(10)\n",
    "print(linked_list)"
   ]
  },
  {
   "cell_type": "markdown",
   "metadata": {},
   "source": [
    "### Очередь"
   ]
  },
  {
   "cell_type": "code",
   "execution_count": 38,
   "metadata": {},
   "outputs": [],
   "source": [
    "class Queue:\n",
    "    def __init__(self):\n",
    "        \"\"\"Очередь на основе встроенного списка\"\"\"\n",
    "        self._queue = []\n",
    "\n",
    "    def is_empty(self):\n",
    "        \"\"\"Пустой ли список?\"\"\"\n",
    "        return len(self._queue) == 0\n",
    "    \n",
    "    def enqueue(self, data):\n",
    "        \"\"\"Добавление элемента в конец очереди. Сложность О(1)\"\"\"\n",
    "        self._queue.append(data)\n",
    "\n",
    "    def dequeue(self):\n",
    "            \"\"\"Удаление элемента из начало очереди. Сложность О(1)\"\"\"\n",
    "            self._queue.pop(0)\n",
    "\n",
    "    def peek(self):\n",
    "         \"\"\"Возвращает первый элемент без удаления\"\"\"\n",
    "         return self._queue[0]\n",
    "    \n",
    "    def size(self):\n",
    "         return len(self._queue)\n",
    "    \n",
    "    def __str__(self):\n",
    "        result_str = \"\"\n",
    "        for item in self._queue[::-1]:\n",
    "            result_str += f\"{item} \"\n",
    "        return result_str\n",
    "\n"
   ]
  },
  {
   "cell_type": "markdown",
   "metadata": {},
   "source": [
    "***Пример использования***"
   ]
  },
  {
   "cell_type": "code",
   "execution_count": 40,
   "metadata": {},
   "outputs": [
    {
     "name": "stdout",
     "output_type": "stream",
     "text": [
      "3 2 1 \n",
      "3 2 \n",
      "10 3 2 \n"
     ]
    }
   ],
   "source": [
    "my_queue = Queue()\n",
    "my_queue.enqueue(1)\n",
    "my_queue.enqueue(2)\n",
    "my_queue.enqueue(3)\n",
    "print(my_queue)\n",
    "my_queue.dequeue()\n",
    "print(my_queue)\n",
    "my_queue.enqueue(10)\n",
    "print(my_queue)"
   ]
  },
  {
   "cell_type": "markdown",
   "metadata": {},
   "source": [
    "### Стек"
   ]
  },
  {
   "cell_type": "code",
   "execution_count": 47,
   "metadata": {},
   "outputs": [],
   "source": [
    "class Stack:\n",
    "    def __init__(self):\n",
    "        \"\"\"Создание стека на основа встроенного списка.\"\"\"\n",
    "        self._stack = []\n",
    "\n",
    "    def is_empty(self):\n",
    "        \"\"\"Пустой ли стек?\"\"\"\n",
    "        return len(self._stack) == 0\n",
    "\n",
    "    def push(self, item):\n",
    "        \"\"\"Добавление нового элемента в конец (сверху). Сложность О(1)\"\"\"\n",
    "        self._stack.append(item)\n",
    "\n",
    "    def pop(self):\n",
    "        \"\"\"Удаление элемента с вершины. Сложность О(1)\"\"\"\n",
    "        self._stack.pop() \n",
    "\n",
    "    def size(self):\n",
    "        \"\"\"Размер стека\"\"\"\n",
    "        return len(self._stack)   \n",
    "    \n",
    "    def __str__(self):\n",
    "        result_str = \"\"\n",
    "        for item in self._stack:\n",
    "            result_str += f\"{item} \"\n",
    "        return result_str"
   ]
  },
  {
   "cell_type": "markdown",
   "metadata": {},
   "source": [
    "***Пример использования***"
   ]
  },
  {
   "cell_type": "code",
   "execution_count": 52,
   "metadata": {},
   "outputs": [
    {
     "name": "stdout",
     "output_type": "stream",
     "text": [
      "True\n",
      "1 2 3 \n",
      "1 2 \n",
      "1 2 10 20 \n"
     ]
    }
   ],
   "source": [
    "my_stack = Stack()\n",
    "print(my_stack.is_empty())\n",
    "my_stack.push(1)\n",
    "my_stack.push(2)\n",
    "my_stack.push(3)\n",
    "print(my_stack)\n",
    "my_stack.pop()\n",
    "print(my_stack)\n",
    "my_stack.size()\n",
    "my_stack.push(10)\n",
    "my_stack.push(20)\n",
    "print(my_stack)\n",
    "\n"
   ]
  },
  {
   "cell_type": "markdown",
   "metadata": {},
   "source": [
    "***Парсер математических выражений***"
   ]
  },
  {
   "cell_type": "code",
   "execution_count": 7,
   "metadata": {},
   "outputs": [
    {
     "data": {
      "text/plain": [
       "-0.5"
      ]
     },
     "execution_count": 7,
     "metadata": {},
     "output_type": "execute_result"
    }
   ],
   "source": [
    "from queue import LifoQueue\n",
    "\n",
    "def parse_expression(expression):\n",
    "    operators = LifoQueue()\n",
    "    operands = LifoQueue()\n",
    "\n",
    "    expression = list(expression.split())\n",
    "\n",
    "    for el in expression[::-1]:\n",
    "        if el in {\"+\", \"-\"}:\n",
    "            operators.put(el)\n",
    "            # print(el)\n",
    "        else:\n",
    "            operands.put(float(el))\n",
    "            # print(el)\n",
    "\n",
    "    while operands.qsize() > 1:\n",
    "        operand1 = operands.get()\n",
    "        operand2 = operands.get()\n",
    "        operator = operators.get()\n",
    "\n",
    "        if operator == \"+\":\n",
    "            operands.put(operand1 + operand2)\n",
    "            # print(operand1 + operand2)\n",
    "        else:\n",
    "            operands.put(operand1 - operand2)\n",
    "            # print(operand1 - operand2)\n",
    "\n",
    "    return operands.get()\n",
    "\n",
    "parse_expression(\"1 - 2 + 0.5\")\n",
    "\n",
    "#если добавить действия с * и /, то нужен стек с приоритетом"
   ]
  },
  {
   "cell_type": "markdown",
   "metadata": {},
   "source": [
    "### Бинарный поиск"
   ]
  },
  {
   "cell_type": "code",
   "execution_count": 8,
   "metadata": {},
   "outputs": [
    {
     "data": {
      "text/plain": [
       "9"
      ]
     },
     "execution_count": 8,
     "metadata": {},
     "output_type": "execute_result"
    }
   ],
   "source": [
    "def BinarySearch(arr, value):\n",
    "    left = 0\n",
    "    right = len(arr) - 1\n",
    "\n",
    "    while left <= right:\n",
    "        mid = (left + right) // 2\n",
    "\n",
    "        if arr[mid] == value:\n",
    "            return mid\n",
    "        elif value < arr[mid]:\n",
    "            right = mid - 1\n",
    "        elif value > arr[mid]:\n",
    "            left = mid + 1\n",
    "    return \n",
    "    \n",
    "arr = [1,2,3,4,5,6,7,8,9,10]\n",
    "BinarySearch(arr, 10)"
   ]
  },
  {
   "cell_type": "markdown",
   "metadata": {},
   "source": [
    "### Двоичная куча"
   ]
  },
  {
   "cell_type": "code",
   "execution_count": 21,
   "metadata": {},
   "outputs": [],
   "source": [
    "class MaxHeap:\n",
    "    def __init__(self):\n",
    "        \"\"\"Инициализируем пустой список\"\"\"\n",
    "        self._heap = []\n",
    "\n",
    "    def parent(self, i):\n",
    "        \"\"\"Получаем родительский индекс\"\"\"\n",
    "        return (i - 1) // 2\n",
    "    \n",
    "    def left_index_child(self, i):\n",
    "        \"\"\"Получаем индекс левого дочернего узла\"\"\"\n",
    "        return 2 * i + 1\n",
    "    \n",
    "    def right_index_child(self, i):\n",
    "        \"\"\"Получаем индекс правого дочернего узла\"\"\"\n",
    "        return 2 * i + 2\n",
    "    \n",
    "    def _heapify(self, i):\n",
    "        \"\"\"Восстановление правильного порядка элементов\"\"\"\n",
    "        left = self.left_index_child(i)\n",
    "        right = self.right_index_child(i)\n",
    "        largest = i # максимальный элемент должен быть выше остальных\n",
    "\n",
    "        # из текущего и двух дочерних узлов выбираем максимальный\n",
    "        if left < len(self._heap) and self._heap[left] > self._heap[i]:\n",
    "            largest = left\n",
    "        if right < len(self._heap) and self._heap[right] > self._heap[largest]:\n",
    "            largest = right\n",
    "\n",
    "        # если текущий уже максимальный, значит куча построена уже верно\n",
    "        if largest == i:\n",
    "            return\n",
    "        \n",
    "        self._heap[i], self._heap[largest] = self._heap[largest], self._heap[i]\n",
    "        self._heapify(largest)   \n",
    "\n",
    "    def insert_key(self, key):\n",
    "        \"\"\"Вставка нового значения подразумевает перестройку кучи\"\"\"\n",
    "        self._heap.append(key)\n",
    "        i = len(self._heap) - 1\n",
    "        while i >= 0:\n",
    "            self._heapify(i)\n",
    "            i = self.parent(i)\n",
    "\n",
    "    def extract_max(self):\n",
    "        \"\"\"Получение максимального элемента - взятие верхнего элемента из кучи.\n",
    "        А затем на его место переставляется самый последнпий элемент\"\"\"\n",
    "        if len(self._heap) == 0:\n",
    "            raise ValueError(\"Куча пустая\")\n",
    "        if len(self._heap) == 1:\n",
    "            return self._heap.pop()\n",
    "        \n",
    "        root = self._heap[0]\n",
    "        self._heap[0] = self._heap.pop()\n",
    "        self._heapify(0)\n",
    "\n",
    "        return root\n",
    "\n",
    "    \n",
    "    def __len__(self):\n",
    "        \"\"\"Получить текущий размер кучи\"\"\"\n",
    "        return len(self._heap)"
   ]
  },
  {
   "cell_type": "markdown",
   "metadata": {},
   "source": [
    "***Пример использования***"
   ]
  },
  {
   "cell_type": "code",
   "execution_count": 23,
   "metadata": {},
   "outputs": [
    {
     "name": "stdout",
     "output_type": "stream",
     "text": [
      "[15, 13, 14, 10, 12, 11]\n",
      "15\n"
     ]
    },
    {
     "data": {
      "text/plain": [
       "[14, 13, 11, 10, 12]"
      ]
     },
     "execution_count": 23,
     "metadata": {},
     "output_type": "execute_result"
    }
   ],
   "source": [
    "heap = MaxHeap()\n",
    "\n",
    "heap.insert_key(10)\n",
    "heap.insert_key(14)\n",
    "heap.insert_key(11)\n",
    "heap.insert_key(12)\n",
    "heap.insert_key(13)\n",
    "heap.insert_key(15)\n",
    "\n",
    "print(heap._heap)\n",
    "print(heap.extract_max())\n",
    "heap._heap"
   ]
  }
 ],
 "metadata": {
  "kernelspec": {
   "display_name": "Python 3",
   "language": "python",
   "name": "python3"
  },
  "language_info": {
   "codemirror_mode": {
    "name": "ipython",
    "version": 3
   },
   "file_extension": ".py",
   "mimetype": "text/x-python",
   "name": "python",
   "nbconvert_exporter": "python",
   "pygments_lexer": "ipython3",
   "version": "3.10.7"
  }
 },
 "nbformat": 4,
 "nbformat_minor": 2
}
